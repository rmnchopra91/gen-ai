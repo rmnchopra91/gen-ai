{
  "nbformat": 4,
  "nbformat_minor": 0,
  "metadata": {
    "colab": {
      "provenance": [],
      "authorship_tag": "ABX9TyMbwoOFMzoWu2P8/RTX806+",
      "include_colab_link": true
    },
    "kernelspec": {
      "name": "python3",
      "display_name": "Python 3"
    },
    "language_info": {
      "name": "python"
    }
  },
  "cells": [
    {
      "cell_type": "markdown",
      "metadata": {
        "id": "view-in-github",
        "colab_type": "text"
      },
      "source": [
        "<a href=\"https://colab.research.google.com/github/rmnchopra91/gen-ai/blob/main/poc/GELIE_advanced_text_to_sql_rmn.ipynb\" target=\"_parent\"><img src=\"https://colab.research.google.com/assets/colab-badge.svg\" alt=\"Open In Colab\"/></a>"
      ]
    },
    {
      "cell_type": "markdown",
      "source": [
        "## Quetion List:\n",
        "**1. Does XYZ Limited Fund have an LIE issued?(Data available)**\n",
        "\n",
        "Example1: Does CITIBANK CREDIT CARD ISSUANCE TRUST Limited Fund have an LIE issued?\n",
        "Answer: Yes, it exists. Its LEI is R8AG6FXVDQAMDKCSJJ64\n",
        "Example2: Does HDFC TOP 200 Limited Fund have an LIE issued?\n",
        "Answer: It does not exist\n",
        "\n",
        "**2. Who is managing the XYZ fund? What is Citigroup Inc.'s registered address?**\n",
        "\n",
        "  Solution: df_citi[df_citi[\"Relationship.RelationshipType\"] == \"IS_FUND-MANAGED_BY\"]\n",
        "  \n",
        "  What is Citigroup Inc.'s registered address?\n",
        "  Solution: directly available\n",
        "\n",
        "**3. Where is Citigroup Inc registered?**\n",
        "\n",
        "eg query: Select * from  table name where legal entity name is \"citi inc\"\n",
        "                response: LegalAddress, HeadquartersAddress\n",
        "\n",
        "**4. Who is the ultimate parent of XYZ Inc?**\n",
        "\n",
        "                Solution: df2[df2[start_node] == lei_id]\n",
        "\n",
        "**5. Who is the immediate parent of ABC Inc?**\n",
        "\n",
        "df2 I [\"Relationship. EndNode-NodeID\", \"Relationship.RelationshipType\"]] [df2 [start_nodel = lei_idl\n",
        "\n",
        "**6. Is XYZ Limited active?**\n"
      ],
      "metadata": {
        "id": "dmBK0C_MYgwW"
      }
    },
    {
      "cell_type": "code",
      "execution_count": null,
      "metadata": {
        "id": "TdS_Sg6eYXR0"
      },
      "outputs": [],
      "source": [
        "! pip install llama-index-llms-openai\n",
        "! pip install llama-index-vector-stores-pinecone\n",
        "! pip install llama-index-readers-wikipedia\n",
        "! pip install llama-index-embeddings-openai\n",
        "! pip install arize-phoenix\n",
        "! pip install llama-index-callbacks-arize-phoenix\n",
        "! pip install llama-index-callbacks-arize-phoenix\n",
        "\n",
        "# Visualize query pipeline\n",
        "! pip install pyvis"
      ]
    },
    {
      "cell_type": "code",
      "source": [
        "from google.colab import drive\n",
        "drive.mount('/content/drive', force_remount=True)"
      ],
      "metadata": {
        "id": "dQuRHazuYk3j"
      },
      "execution_count": null,
      "outputs": []
    },
    {
      "cell_type": "code",
      "source": [
        "import os\n",
        "\n",
        "secret_base_path = \"/content/drive/MyDrive/Gen AI Course/secrets\"\n",
        "openai_api_key_path = f\"{secret_base_path}/openai_api_key.txt\"\n",
        "\n",
        "with open(openai_api_key_path, \"r\") as f:\n",
        "  os.environ[\"OPENAI_API_KEY\"] = ' '.join(f.readlines())"
      ],
      "metadata": {
        "id": "lTom_Y_5Yq5T"
      },
      "execution_count": null,
      "outputs": []
    }
  ]
}