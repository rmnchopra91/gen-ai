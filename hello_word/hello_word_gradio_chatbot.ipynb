{
  "nbformat": 4,
  "nbformat_minor": 0,
  "metadata": {
    "colab": {
      "provenance": [],
      "authorship_tag": "ABX9TyMp61W7Qk0S6RHaJE75Mf0X",
      "include_colab_link": true
    },
    "kernelspec": {
      "name": "python3",
      "display_name": "Python 3"
    },
    "language_info": {
      "name": "python"
    }
  },
  "cells": [
    {
      "cell_type": "markdown",
      "metadata": {
        "id": "view-in-github",
        "colab_type": "text"
      },
      "source": [
        "<a href=\"https://colab.research.google.com/github/rmnchopra91/gen-ai/blob/main/hello_word/hello_word_gradio_chatbot.ipynb\" target=\"_parent\"><img src=\"https://colab.research.google.com/assets/colab-badge.svg\" alt=\"Open In Colab\"/></a>"
      ]
    },
    {
      "cell_type": "code",
      "source": [
        "!pip install gradio"
      ],
      "metadata": {
        "id": "kavv1OTfHBjj"
      },
      "execution_count": null,
      "outputs": []
    },
    {
      "cell_type": "code",
      "source": [
        "import gradio as gr\n",
        "\n",
        "def echo(message, history):\n",
        "  print(f\"message : {message}\")\n",
        "  print(f\"history : {history}\")\n",
        "  return history\n",
        "\n",
        "demo = gr.ChatInterface(fn=echo, examples=[\"hi\", \"this is raman\", \"how may i help you?\"], title=\"Echo Bot\")\n",
        "demo.launch(share=True)"
      ],
      "metadata": {
        "id": "8QXP38t9GgIk"
      },
      "execution_count": null,
      "outputs": []
    }
  ]
}