{
 "cells": [
  {
   "cell_type": "markdown",
   "metadata": {},
   "source": [
    "# Lesson 1: Your first agent with Amazon Bedrock"
   ]
  },
  {
   "cell_type": "markdown",
   "metadata": {},
   "source": [
    "## Preparation \n",
    "<p style=\"background-color:#fff6ff; padding:15px; border-width:3px; border-color:#efe6ef; border-style:solid; border-radius:6px\"> 💻 &nbsp; <b>Access <code>requirements.txt</code> and <code>helper.py</code> and other files:</b> 1) click on the <em>\"File\"</em> option on the top menu of the notebook and then 2) click on <em>\"Open\"</em>. For more help, please see the <em>\"Appendix - Tips and Help\"</em> Lesson.</p>"
   ]
  },
  {
   "cell_type": "code",
   "execution_count": null,
   "metadata": {},
   "outputs": [],
   "source": [
    "# Before you start, please run the following code to set up your environment.\n",
    "# This code will reset the environment (if needed) and prepare the resources for the lesson.\n",
    "# It does this by quickly running through all the code from the previous lessons.\n",
    "\n",
    "!sh ./ro_shared_data/reset.sh\n",
    "\n",
    "import os\n",
    "\n",
    "roleArn = os.environ['BEDROCKAGENTROLE']"
   ]
  },
  {
   "cell_type": "markdown",
   "metadata": {},
   "source": [
    "## Start of the lesson"
   ]
  },
  {
   "cell_type": "code",
   "execution_count": null,
   "metadata": {},
   "outputs": [],
   "source": [
    "import boto3"
   ]
  },
  {
   "cell_type": "code",
   "execution_count": null,
   "metadata": {},
   "outputs": [],
   "source": [
    "bedrock_agent = boto3.client(service_name='bedrock-agent', region_name='us-west-2')"
   ]
  },
  {
   "cell_type": "code",
   "execution_count": null,
   "metadata": {},
   "outputs": [],
   "source": [
    "create_agent_response = bedrock_agent.create_agent(\n",
    "    agentName='mugs-customer-support-agent',\n",
    "    foundationModel='anthropic.claude-3-haiku-20240307-v1:0',\n",
    "    instruction=\"\"\"You are an advanced AI agent acting as a front line customer support agent.\"\"\",\n",
    "    agentResourceRoleArn=roleArn\n",
    ")"
   ]
  },
  {
   "cell_type": "code",
   "execution_count": null,
   "metadata": {},
   "outputs": [],
   "source": [
    "create_agent_response"
   ]
  },
  {
   "cell_type": "code",
   "execution_count": null,
   "metadata": {},
   "outputs": [],
   "source": [
    "agentId = create_agent_response['agent']['agentId']"
   ]
  },
  {
   "cell_type": "code",
   "execution_count": null,
   "metadata": {},
   "outputs": [],
   "source": [
    "from helper import *"
   ]
  },
  {
   "cell_type": "code",
   "execution_count": null,
   "metadata": {},
   "outputs": [],
   "source": [
    "wait_for_agent_status(\n",
    "    agentId=agentId, \n",
    "    targetStatus='NOT_PREPARED'\n",
    ")"
   ]
  },
  {
   "cell_type": "code",
   "execution_count": null,
   "metadata": {},
   "outputs": [],
   "source": [
    "bedrock_agent.prepare_agent(\n",
    "    agentId=agentId\n",
    ")"
   ]
  },
  {
   "cell_type": "code",
   "execution_count": null,
   "metadata": {},
   "outputs": [],
   "source": [
    "wait_for_agent_status(\n",
    "    agentId=agentId, \n",
    "    targetStatus='PREPARED'\n",
    ")"
   ]
  },
  {
   "cell_type": "code",
   "execution_count": null,
   "metadata": {},
   "outputs": [],
   "source": [
    "create_agent_alias_response = bedrock_agent.create_agent_alias(\n",
    "    agentId=agentId,\n",
    "    agentAliasName='MyAgentAlias',\n",
    ")\n",
    "\n",
    "agentAliasId = create_agent_alias_response['agentAlias']['agentAliasId']\n",
    "\n",
    "wait_for_agent_alias_status(\n",
    "    agentId=agentId,\n",
    "    agentAliasId=agentAliasId,\n",
    "    targetStatus='PREPARED'\n",
    ")"
   ]
  },
  {
   "cell_type": "code",
   "execution_count": null,
   "metadata": {},
   "outputs": [],
   "source": [
    "bedrock_agent_runtime = boto3.client(service_name='bedrock-agent-runtime', region_name='us-west-2')"
   ]
  },
  {
   "cell_type": "code",
   "execution_count": null,
   "metadata": {},
   "outputs": [],
   "source": [
    "import uuid"
   ]
  },
  {
   "cell_type": "code",
   "execution_count": null,
   "metadata": {},
   "outputs": [],
   "source": [
    "message = \"Hello, I bought a mug from your store yesterday, and it broke. I want to return it.\"\n",
    "\n",
    "sessionId = str(uuid.uuid4())\n",
    "\n",
    "invoke_agent_response = bedrock_agent_runtime.invoke_agent(\n",
    "    agentId=agentId,\n",
    "    agentAliasId=agentAliasId,\n",
    "    inputText=message,\n",
    "    sessionId=sessionId,\n",
    "    endSession=False,\n",
    "    enableTrace=True,\n",
    ")"
   ]
  },
  {
   "cell_type": "code",
   "execution_count": null,
   "metadata": {},
   "outputs": [],
   "source": [
    "event_stream = invoke_agent_response[\"completion\"]"
   ]
  },
  {
   "cell_type": "code",
   "execution_count": null,
   "metadata": {},
   "outputs": [],
   "source": [
    "for event in event_stream:\n",
    "    print(event)"
   ]
  },
  {
   "cell_type": "code",
   "execution_count": null,
   "metadata": {},
   "outputs": [],
   "source": [
    "message = \"Hello, I bought a mug from your store yesterday, and it broke. I want to return it.\"\n",
    "\n",
    "sessionId = str(uuid.uuid4())"
   ]
  },
  {
   "cell_type": "code",
   "execution_count": null,
   "metadata": {},
   "outputs": [],
   "source": [
    "invoke_agent_and_print(\n",
    "    agentAliasId=agentAliasId,\n",
    "    agentId=agentId,\n",
    "    sessionId=sessionId,\n",
    "    inputText=message,\n",
    "    enableTrace=True,\n",
    ")"
   ]
  }
 ],
 "metadata": {
  "language_info": {
   "name": "python"
  }
 },
 "nbformat": 4,
 "nbformat_minor": 2
}
