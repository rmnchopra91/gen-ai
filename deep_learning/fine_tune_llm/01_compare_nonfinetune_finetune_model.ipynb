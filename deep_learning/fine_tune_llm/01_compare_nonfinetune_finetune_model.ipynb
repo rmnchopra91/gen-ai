{
  "nbformat": 4,
  "nbformat_minor": 0,
  "metadata": {
    "colab": {
      "provenance": [],
      "authorship_tag": "ABX9TyMiM431prZTUsmiI9ZCKQ3R",
      "include_colab_link": true
    },
    "kernelspec": {
      "name": "python3",
      "display_name": "Python 3"
    },
    "language_info": {
      "name": "python"
    }
  },
  "cells": [
    {
      "cell_type": "markdown",
      "metadata": {
        "id": "view-in-github",
        "colab_type": "text"
      },
      "source": [
        "<a href=\"https://colab.research.google.com/github/rmnchopra91/gen-ai/blob/main/deep_learning/fine_tune_llm/01_compare_nonfinetune_finetune_model.ipynb\" target=\"_parent\"><img src=\"https://colab.research.google.com/assets/colab-badge.svg\" alt=\"Open In Colab\"/></a>"
      ]
    },
    {
      "cell_type": "markdown",
      "source": [
        "# Compare finetuned vs. non-finetuned models"
      ],
      "metadata": {
        "id": "lgQwwu-4EMnd"
      }
    },
    {
      "cell_type": "code",
      "execution_count": null,
      "metadata": {
        "id": "umJwB67OEKQf"
      },
      "outputs": [],
      "source": [
        "import os\n",
        "import lamini\n",
        "\n",
        "lamini.api_url = os.getenv(\"POWERML__PRODUCTION__URL\")\n",
        "lamini.api_key = os.getenv(\"POWERML__PRODUCTION__KEY\")\n",
        "from llama import BasicModelRunner\n",
        "\n",
        "non_finetuned = BasicModelRunner(\"meta-llama/Llama-2-7b-hf\")\n",
        "finetuned_model = BasicModelRunner(\"meta-llama/Llama-2-7b-chat-hf\")\n",
        "\n",
        "non_finetuned_output = non_finetuned(\"Tell me how to train my dog to sit\")\n",
        "finetuned_output = finetuned_model(\"Tell me how to train my dog to sit\")\n",
        "\n"
      ]
    },
    {
      "cell_type": "code",
      "source": [],
      "metadata": {
        "id": "3aJ-Z8LuEa18"
      },
      "execution_count": null,
      "outputs": []
    }
  ]
}